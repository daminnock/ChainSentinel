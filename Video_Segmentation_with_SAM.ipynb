{
  "nbformat": 4,
  "nbformat_minor": 0,
  "metadata": {
    "colab": {
      "provenance": [],
      "include_colab_link": true
    },
    "kernelspec": {
      "name": "python3",
      "display_name": "Python 3"
    },
    "language_info": {
      "name": "python"
    },
    "accelerator": "GPU",
    "gpuClass": "standard"
  },
  "cells": [
    {
      "cell_type": "markdown",
      "metadata": {
        "id": "view-in-github",
        "colab_type": "text"
      },
      "source": [
        "<a href=\"https://colab.research.google.com/github/daminnock/ChainSentinel/blob/main/Video_Segmentation_with_SAM.ipynb\" target=\"_parent\"><img src=\"https://colab.research.google.com/assets/colab-badge.svg\" alt=\"Open In Colab\"/></a>"
      ]
    },
    {
      "cell_type": "markdown",
      "source": [
        "## Before you start\n",
        "\n",
        "Let's make sure that we have access to GPU. We can use `nvidia-smi` command to do that. In case of any problems navigate to `Edit` -> `Notebook settings` -> `Hardware accelerator`, set it to `GPU`, and then click `Save`."
      ],
      "metadata": {
        "id": "L2s3TnW4nhjC"
      }
    },
    {
      "cell_type": "code",
      "source": [
        "from google.colab import drive\n",
        "drive.mount('/content/drive')"
      ],
      "metadata": {
        "colab": {
          "base_uri": "https://localhost:8080/"
        },
        "id": "NBZjrcV14BvG",
        "outputId": "076ceb03-00e9-45fc-d5d8-4ccd47b4e575"
      },
      "execution_count": 2,
      "outputs": [
        {
          "output_type": "stream",
          "name": "stdout",
          "text": [
            "Mounted at /content/drive\n"
          ]
        }
      ]
    },
    {
      "cell_type": "code",
      "execution_count": 3,
      "metadata": {
        "colab": {
          "base_uri": "https://localhost:8080/"
        },
        "id": "Frcrk09FhJeV",
        "outputId": "651aa29b-4153-4915-8ff6-d0b5c926e9e3"
      },
      "outputs": [
        {
          "output_type": "stream",
          "name": "stdout",
          "text": [
            "Sat Apr 29 15:57:41 2023       \n",
            "+-----------------------------------------------------------------------------+\n",
            "| NVIDIA-SMI 525.85.12    Driver Version: 525.85.12    CUDA Version: 12.0     |\n",
            "|-------------------------------+----------------------+----------------------+\n",
            "| GPU  Name        Persistence-M| Bus-Id        Disp.A | Volatile Uncorr. ECC |\n",
            "| Fan  Temp  Perf  Pwr:Usage/Cap|         Memory-Usage | GPU-Util  Compute M. |\n",
            "|                               |                      |               MIG M. |\n",
            "|===============================+======================+======================|\n",
            "|   0  Tesla T4            Off  | 00000000:00:04.0 Off |                    0 |\n",
            "| N/A   63C    P8    10W /  70W |      0MiB / 15360MiB |      0%      Default |\n",
            "|                               |                      |                  N/A |\n",
            "+-------------------------------+----------------------+----------------------+\n",
            "                                                                               \n",
            "+-----------------------------------------------------------------------------+\n",
            "| Processes:                                                                  |\n",
            "|  GPU   GI   CI        PID   Type   Process name                  GPU Memory |\n",
            "|        ID   ID                                                   Usage      |\n",
            "|=============================================================================|\n",
            "|  No running processes found                                                 |\n",
            "+-----------------------------------------------------------------------------+\n"
          ]
        }
      ],
      "source": [
        "!nvidia-smi"
      ]
    },
    {
      "cell_type": "markdown",
      "source": [
        "**NOTE:** To make it easier for us to manage datasets, images and models we create a `HOME` constant. "
      ],
      "metadata": {
        "id": "Iov3yhoRnxG2"
      }
    },
    {
      "cell_type": "code",
      "source": [
        "import os\n",
        "HOME = os.getcwd()\n",
        "print(\"HOME:\", HOME)"
      ],
      "metadata": {
        "colab": {
          "base_uri": "https://localhost:8080/"
        },
        "id": "dgS8jFPMnj5h",
        "outputId": "3675aa2a-0363-448e-bb92-17fb3ea197a4"
      },
      "execution_count": 5,
      "outputs": [
        {
          "output_type": "stream",
          "name": "stdout",
          "text": [
            "HOME: /content\n"
          ]
        }
      ]
    },
    {
      "cell_type": "markdown",
      "source": [
        "## Install Segment Anything Model (SAM) and other dependencies"
      ],
      "metadata": {
        "id": "YN3DPGZSn57p"
      }
    },
    {
      "cell_type": "code",
      "source": [
        "%cd {HOME}\n",
        "\n",
        "import sys\n",
        "!{sys.executable} -m pip install 'git+https://github.com/facebookresearch/segment-anything.git'"
      ],
      "metadata": {
        "colab": {
          "base_uri": "https://localhost:8080/"
        },
        "id": "1H9YruJen0Q8",
        "outputId": "bdb88957-b02b-4dd1-9e54-de8d35bf1e36"
      },
      "execution_count": 6,
      "outputs": [
        {
          "output_type": "stream",
          "name": "stdout",
          "text": [
            "/content\n",
            "Looking in indexes: https://pypi.org/simple, https://us-python.pkg.dev/colab-wheels/public/simple/\n",
            "Collecting git+https://github.com/facebookresearch/segment-anything.git\n",
            "  Cloning https://github.com/facebookresearch/segment-anything.git to /tmp/pip-req-build-uponpap7\n",
            "  Running command git clone --filter=blob:none --quiet https://github.com/facebookresearch/segment-anything.git /tmp/pip-req-build-uponpap7\n",
            "  Resolved https://github.com/facebookresearch/segment-anything.git to commit 567662b0fd33ca4b022d94d3b8de896628cd32dd\n",
            "  Preparing metadata (setup.py) ... \u001b[?25l\u001b[?25hdone\n",
            "Building wheels for collected packages: segment-anything\n",
            "  Building wheel for segment-anything (setup.py) ... \u001b[?25l\u001b[?25hdone\n",
            "  Created wheel for segment-anything: filename=segment_anything-1.0-py3-none-any.whl size=36610 sha256=87619179c13cfe89c1d06cfddc126355b093b93d1e0073bb37fb4ae5eee27055\n",
            "  Stored in directory: /tmp/pip-ephem-wheel-cache-4np4q1o_/wheels/10/cf/59/9ccb2f0a1bcc81d4fbd0e501680b5d088d690c6cfbc02dc99d\n",
            "Successfully built segment-anything\n",
            "Installing collected packages: segment-anything\n",
            "Successfully installed segment-anything-1.0\n"
          ]
        }
      ]
    },
    {
      "cell_type": "markdown",
      "source": [
        "### Download SAM weights"
      ],
      "metadata": {
        "id": "2VeYIWh1iDWW"
      }
    },
    {
      "cell_type": "code",
      "source": [
        "%cd {HOME}\n",
        "!mkdir {HOME}/weights\n",
        "%cd {HOME}/weights\n",
        "\n",
        "!wget -q https://dl.fbaipublicfiles.com/segment_anything/sam_vit_h_4b8939.pth"
      ],
      "metadata": {
        "colab": {
          "base_uri": "https://localhost:8080/"
        },
        "id": "Aszw1OxBwowI",
        "outputId": "2459a4db-a5b7-414b-804b-e6610ccd0f42"
      },
      "execution_count": 7,
      "outputs": [
        {
          "output_type": "stream",
          "name": "stdout",
          "text": [
            "/content\n",
            "/content/weights\n"
          ]
        }
      ]
    },
    {
      "cell_type": "code",
      "source": [
        "import os\n",
        "\n",
        "CHECKPOINT_PATH = os.path.join(HOME, \"weights\", \"sam_vit_h_4b8939.pth\")\n",
        "print(CHECKPOINT_PATH, \"; exist:\", os.path.isfile(CHECKPOINT_PATH))"
      ],
      "metadata": {
        "colab": {
          "base_uri": "https://localhost:8080/"
        },
        "id": "sxoFmhsHw_fG",
        "outputId": "a3dc79bd-b7b5-4bf4-a460-e3e4fcc49ed2"
      },
      "execution_count": 8,
      "outputs": [
        {
          "output_type": "stream",
          "name": "stdout",
          "text": [
            "/content/weights/sam_vit_h_4b8939.pth ; exist: True\n"
          ]
        }
      ]
    },
    {
      "cell_type": "markdown",
      "source": [
        "## Load Model"
      ],
      "metadata": {
        "id": "vlhbd_f4xfiJ"
      }
    },
    {
      "cell_type": "code",
      "source": [
        "import torch\n",
        "\n",
        "DEVICE = torch.device('cuda:0' if torch.cuda.is_available() else 'cpu')\n",
        "MODEL_TYPE = \"vit_h\""
      ],
      "metadata": {
        "id": "t6_9PSZupghA"
      },
      "execution_count": 9,
      "outputs": []
    },
    {
      "cell_type": "code",
      "source": [
        "from segment_anything import sam_model_registry, SamPredictor\n",
        "\n",
        "sam = sam_model_registry[MODEL_TYPE](checkpoint=CHECKPOINT_PATH).to(device=DEVICE)"
      ],
      "metadata": {
        "id": "n41g6y-Zx-9x"
      },
      "execution_count": 10,
      "outputs": []
    },
    {
      "cell_type": "code",
      "source": [
        "import os\n",
        "\n",
        "IMAGE_NAME = \"dog.jpeg\"\n",
        "IMAGE_PATH = os.path.join(HOME, \"data\", IMAGE_NAME)"
      ],
      "metadata": {
        "id": "I0Pm0RYArgm9"
      },
      "execution_count": null,
      "outputs": []
    },
    {
      "cell_type": "markdown",
      "source": [
        "### Video Bounding Box to Mask"
      ],
      "metadata": {
        "id": "s3WqT5qTQ6tI"
      }
    },
    {
      "cell_type": "code",
      "source": [
        "import cv2\n",
        "import numpy as np\n",
        "mask_predictor = SamPredictor(sam)\n",
        "from tqdm import tqdm"
      ],
      "metadata": {
        "id": "9ALWzNQk5Cen"
      },
      "execution_count": 13,
      "outputs": []
    },
    {
      "cell_type": "code",
      "source": [
        "import cv2\n",
        "import json\n",
        "\n",
        "# Flags to control visualization\n",
        "SHOW_BOXES = True  # Display bounding boxes\n",
        "SHOW_LABELS = True  # Display product names\n",
        "SHOW_SEGMENTATION = True # Display segmentation\n",
        "SEGMENTATE = False # Apply SAM\n",
        "\n",
        "# Input and output files\n",
        "VIDEO_FILE = \"/content/drive/MyDrive/videos/cam1_raw_concat.mkv\"\n",
        "JSON_FILE = '/content/drive/MyDrive/videos/cam1_person_tracking.json'\n",
        "OUTPUT_FILE = \"video_with_obj_detection.mkv\"\n",
        "OUTPUT_FILE_MASKS = \"video_with_masks.mkv\"\n",
        "OUTPUT_FILE_MASKED = \"video_masked.mkv\"\n",
        "\n",
        "# Read JSON file\n",
        "with open(JSON_FILE) as f:\n",
        "    data = json.load(f)\n",
        "\n",
        "# Read video file\n",
        "cap = cv2.VideoCapture(VIDEO_FILE)\n",
        "fps = cap.get(cv2.CAP_PROP_FPS)\n",
        "width = int(cap.get(cv2.CAP_PROP_FRAME_WIDTH))\n",
        "height = int(cap.get(cv2.CAP_PROP_FRAME_HEIGHT))\n",
        "\n",
        "# Define color for each product\n",
        "COLORS = {0: (100, 0, 0), 1: (0, 100, 0), 2: (100, 0, 0)}\n",
        "\n",
        "# Define video codec and output video writer\n",
        "fourcc = cv2.VideoWriter_fourcc(*\"XVID\")\n",
        "out = cv2.VideoWriter(OUTPUT_FILE, fourcc, fps, (width, height))\n",
        "out_masks = cv2.VideoWriter(OUTPUT_FILE_MASKS, fourcc, fps, (width, height))\n",
        "out_masked = cv2.VideoWriter(OUTPUT_FILE_MASKED, fourcc, fps, (width, height))\n",
        "\n",
        "\n",
        "# Process each frame in the video\n",
        "for i in tqdm(range(len(data))):\n",
        "    ret, frame = cap.read()\n",
        "    if not ret:\n",
        "        break\n",
        "\n",
        "    masks_frame = frame.copy() * 0\n",
        "\n",
        "    # Draw bounding boxes and product names\n",
        "    for obj in data[i]['instances']:\n",
        "\n",
        "        x1, y1 = obj[\"bbox\"][0], obj[\"bbox\"][1]\n",
        "        x2, y2 = obj[\"bbox\"][2], obj[\"bbox\"][3]\n",
        "        color = COLORS.get(obj[\"instance_id\"], (55, 55, 55)) # (0,0,255) #COLORS.get(obj[\"product_name\"], (0, 0, 255))\n",
        "        cv2.drawMarker(frame, obj[\"bbox_centroid\"], [0, 0, 255], cv2.MARKER_CROSS, 100, 2)\n",
        "        cv2.rectangle(frame, (x1, y1), (x2, y2), color, 2)\n",
        "        if SHOW_LABELS:\n",
        "            cv2.putText(frame, str(obj[\"instance_id\"]), (x1, y1+10), cv2.FONT_HERSHEY_SIMPLEX, 0.5, color, 2)\n",
        "\n",
        "        # Segment with SAM\n",
        "        # multimask_output (bool): If true, the model will return three masks. For ambiguous input prompts (such as a single click), this will often\n",
        "        # produce better masks than a single prediction. If only a single mask is needed, the model's predicted quality score can be used\n",
        "        # to select the best mask. For non-ambiguous prompts, such as multiple input prompts, multimask_output=False can give better results.\n",
        "        if SEGMENTATE:\n",
        "            mask_predictor.set_image(frame)\n",
        "\n",
        "            input_box = np.array(obj[\"bbox\"])\n",
        "            input_point = np.array([obj[\"bbox_centroid\"]])\n",
        "            input_label = np.array([1]) # 0 means that the input_point shouldn't be included in the mask. 1 means that is part of the mask.\n",
        "\n",
        "            mask, scores, logits = mask_predictor.predict(box = input_box,\n",
        "                                                          point_coords = input_point,\n",
        "                                                          point_labels = input_label,\n",
        "                                                          multimask_output = False\n",
        "                                                          )\n",
        "          \n",
        "            masks_frame[mask[0]] += 100\n",
        "\n",
        "        for key, value in obj['keypoints'].items():\n",
        "            cv2.drawMarker(frame, (int(value[0]), int(value[1])), [128,128,128], cv2.MARKER_CROSS, 30, 2)\n",
        "            if SHOW_LABELS:\n",
        "                cv2.putText(frame, key, (int(value[0]), int(value[1])+10), cv2.FONT_HERSHEY_SIMPLEX, 0.5, color, 2)\n",
        "\n",
        "    out.write(frame)\n",
        "\n",
        "    masks_frame = np.clip(masks_frame,0,255)\n",
        "    out_masks.write(masks_frame)\n",
        "\n",
        "    if SHOW_SEGMENTATION and SEGMENTATE:\n",
        "        masked_frame = cv2.addWeighted(frame, 1.0, masks_frame, 0.5, 0)\n",
        "        out_masked.write(masked_frame)\n",
        "\n",
        "\n",
        "# Release video capture and writer\n",
        "cap.release()\n",
        "out.release()\n",
        "out_masks.release()\n",
        "out_masked.release()"
      ],
      "metadata": {
        "colab": {
          "base_uri": "https://localhost:8080/"
        },
        "id": "bZO3GhGn4dSX",
        "outputId": "d5ed89a5-5e49-4786-a825-35acd1e7dbdd"
      },
      "execution_count": 14,
      "outputs": [
        {
          "output_type": "stream",
          "name": "stderr",
          "text": [
            "100%|██████████| 1240/1240 [00:21<00:00, 58.04it/s]\n"
          ]
        }
      ]
    },
    {
      "cell_type": "code",
      "source": [],
      "metadata": {
        "id": "9FHyDBbYw2Ai"
      },
      "execution_count": 15,
      "outputs": []
    },
    {
      "cell_type": "code",
      "source": [],
      "metadata": {
        "id": "ccFSRKZBx35t"
      },
      "execution_count": null,
      "outputs": []
    }
  ]
}